{
  "nbformat": 4,
  "nbformat_minor": 0,
  "metadata": {
    "colab": {
      "name": "Dictionary Program using python.ipynb",
      "provenance": [],
      "collapsed_sections": []
    },
    "kernelspec": {
      "name": "python3",
      "display_name": "Python 3"
    },
    "language_info": {
      "name": "python"
    }
  },
  "cells": [
    {
      "cell_type": "code",
      "metadata": {
        "colab": {
          "base_uri": "https://localhost:8080/"
        },
        "id": "cix4aBvl5Dzx",
        "outputId": "19863f63-2ebf-468a-c1df-10fc068ce4eb"
      },
      "source": [
        "import datetime  \n",
        "from datetime import date \n",
        "import calendar\n",
        "\n",
        "def fun(x):\n",
        "    daysDictionary = {'Mon':0, 'Tue':0, 'Wed':0,'Thu':0, 'Fri':0,'Sat':0, 'Sun':0}\n",
        "    for j in x:\n",
        "        date = j\n",
        "        year,month,day = (int(i) for i in date.split('-'))\n",
        "        dayNumber = calendar.weekday(year, month, day) \n",
        "        days =['Mon', 'Tue', 'Wed', 'Thu','Fri', 'Sat', 'Sun']\n",
        "        daysDictionary[days[dayNumber]]+=x[j]\n",
        "        print(daysDictionary[days[dayNumber]])\n",
        "    print(daysDictionary)\n",
        "\n",
        "x = {'2020-01-01':4,'2020-01-02':4,'2020-01-03':6,'2020-01-04':8,'2020-01-05':2,'2020-01-06':-6,'2020-01-07':2,'2020-01-08':-2}\n",
        "fun(x)"
      ],
      "execution_count": 3,
      "outputs": [
        {
          "output_type": "stream",
          "text": [
            "4\n",
            "4\n",
            "6\n",
            "8\n",
            "2\n",
            "-6\n",
            "2\n",
            "2\n",
            "{'Mon': -6, 'Tue': 2, 'Wed': 2, 'Thu': 4, 'Fri': 6, 'Sat': 8, 'Sun': 2}\n"
          ],
          "name": "stdout"
        }
      ]
    }
  ]
}